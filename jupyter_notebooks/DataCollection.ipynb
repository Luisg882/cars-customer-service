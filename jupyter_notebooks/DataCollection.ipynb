{
  "cells": [
    {
      "cell_type": "markdown",
      "metadata": {
        "id": "0aStgWSO0E0E"
      },
      "source": [
        "# **Data Collection**"
      ]
    },
    {
      "cell_type": "markdown",
      "metadata": {
        "id": "1eLEkw5O0ECa"
      },
      "source": [
        "## Objectives\n",
        "\n",
        "* Fectch the date from Kaggle\n",
        "\n",
        "## Inputs\n",
        "\n",
        "* Kaggle JSON file - Authentication token\n",
        "\n",
        "## Outputs\n",
        "\n",
        "* Generate Dataset: input/datasets/cars_inventory\n",
        "\n",
        "## Additional Comments\n",
        "\n",
        "* In case you have any additional comments that don't fit in the previous bullets, please state them here. \n",
        "\n"
      ]
    },
    {
      "cell_type": "markdown",
      "metadata": {
        "id": "9uWZXH9LwoQg"
      },
      "source": [
        "---"
      ]
    },
    {
      "cell_type": "markdown",
      "metadata": {
        "id": "cqP-UeN-z3i2"
      },
      "source": [
        "# Change working directory"
      ]
    },
    {
      "cell_type": "markdown",
      "metadata": {},
      "source": []
    },
    {
      "cell_type": "markdown",
      "metadata": {
        "id": "aOGIGS-uz3i2"
      },
      "source": [
        "Select current directory"
      ]
    },
    {
      "cell_type": "code",
      "execution_count": 38,
      "metadata": {
        "id": "wZfF_j-Bz3i4",
        "outputId": "66943449-1436-4c3d-85c7-b85f9f78349b"
      },
      "outputs": [
        {
          "name": "stdout",
          "output_type": "stream",
          "text": [
            "C:\\Users\\Luis\\Desktop\\Code practice and projects\\cars-customer-service\n"
          ]
        }
      ],
      "source": [
        "import os\n",
        "\n",
        "# Change to the desired directory\n",
        "os.chdir(r\"C:\\Users\\Luis\\Desktop\\Code practice and projects\\cars-customer-service\")\n",
        "\n",
        "# Verify the current working directory\n",
        "current_dir = os.getcwd()\n",
        "print(current_dir)"
      ]
    },
    {
      "cell_type": "markdown",
      "metadata": {
        "id": "9MWW8E7lz3i7"
      },
      "source": [
        "Change current directory to the new current directory\n",
        "* os.path.dirname() gets the parent directory\n",
        "* os.chir() defines the new current directory"
      ]
    },
    {
      "cell_type": "markdown",
      "metadata": {
        "id": "M_xPk_Ijz3i-"
      },
      "source": [
        "Confirm the new current directory"
      ]
    },
    {
      "cell_type": "markdown",
      "metadata": {
        "id": "-mavJ8DibrcQ"
      },
      "source": [
        "# Data Collection"
      ]
    },
    {
      "cell_type": "markdown",
      "metadata": {},
      "source": [
        "Change the Kaggle configuration directory to the current working directory and set permissions for the Kaggle authentication JSON"
      ]
    },
    {
      "cell_type": "code",
      "execution_count": 39,
      "metadata": {},
      "outputs": [
        {
          "name": "stderr",
          "output_type": "stream",
          "text": [
            "'chmod' is not recognized as an internal or external command,\n",
            "operable program or batch file.\n"
          ]
        }
      ],
      "source": [
        "os.environ['KAGGLE_CONFIG_DIR'] = os.getcwd()\n",
        "! chmod 600 kaggle.json"
      ]
    },
    {
      "cell_type": "markdown",
      "metadata": {},
      "source": [
        "Set the Kaggle dateset and download it."
      ]
    },
    {
      "cell_type": "code",
      "execution_count": 45,
      "metadata": {},
      "outputs": [
        {
          "name": "stdout",
          "output_type": "stream",
          "text": [
            "Dataset URL: https://www.kaggle.com/datasets/anandmahajan84/used-cars-dealer-inventory-uk\n",
            "License(s): GPL-2.0\n",
            "Downloading used-cars-dealer-inventory-uk.zip to inputsdatasets/cars_inventory\n",
            "\n"
          ]
        },
        {
          "name": "stderr",
          "output_type": "stream",
          "text": [
            "\n",
            "  0%|          | 0.00/1.07M [00:00<?, ?B/s]\n",
            " 94%|█████████▎| 1.00M/1.07M [00:00<00:00, 2.89MB/s]\n",
            "100%|██████████| 1.07M/1.07M [00:00<00:00, 3.02MB/s]\n"
          ]
        }
      ],
      "source": [
        "KaggleDatasetPath = \"anandmahajan84/used-cars-dealer-inventory-uk\"\n",
        "DestinationFolder = \"inputsdatasets/cars_inventory\"\n",
        "! kaggle datasets download -d {KaggleDatasetPath} -p {DestinationFolder}\n"
      ]
    },
    {
      "cell_type": "markdown",
      "metadata": {
        "id": "ZY3l0-AxO93d"
      },
      "source": [
        "---"
      ]
    },
    {
      "cell_type": "markdown",
      "metadata": {
        "id": "uFQo3ycuO-v6"
      },
      "source": [
        "# Data preparation"
      ]
    },
    {
      "cell_type": "markdown",
      "metadata": {},
      "source": [
        "Data Cleaning"
      ]
    },
    {
      "cell_type": "code",
      "execution_count": 49,
      "metadata": {},
      "outputs": [],
      "source": [
        "import os\n",
        "\n",
        "def remove_non_image_file(my_data_dir):\n",
        "    image_extension = ('.png', '.jpg', '.jpeg')\n",
        "\n",
        "    # Ensure the directory exists\n",
        "    if not os.path.exists(my_data_dir):\n",
        "        print(f\"Error: Directory {my_data_dir} does not exist.\")\n",
        "        return\n",
        "    \n",
        "    # List all folders inside the given directory\n",
        "    folders = os.listdir(my_data_dir)\n",
        "    \n",
        "    for folder in folders:\n",
        "        folder_path = os.path.join(my_data_dir, folder)\n",
        "\n",
        "        # Skip if not a directory (sometimes there can be files in the main directory)\n",
        "        if not os.path.isdir(folder_path):\n",
        "            print(f\"Skipping {folder_path} as it is not a directory.\")\n",
        "            continue\n",
        "        \n",
        "        # List all files and subdirectories in the folder\n",
        "        files = os.listdir(folder_path)\n",
        "        image_count = 0\n",
        "        non_image_count = 0\n",
        "        \n",
        "        for given_file in files:\n",
        "            file_path = os.path.join(folder_path, given_file)\n",
        "            \n",
        "            # Skip if the given file is a directory (this avoids the 'Is a directory' error)\n",
        "            if os.path.isdir(file_path):\n",
        "                print(f\"Skipping directory: {file_path}\")\n",
        "                continue\n",
        "\n",
        "            # Check if the file ends with valid image extensions\n",
        "            if not given_file.lower().endswith(image_extension):\n",
        "                try:\n",
        "                    # Attempt to remove the non-image file\n",
        "                    os.remove(file_path)\n",
        "                    non_image_count += 1\n",
        "                    print(f\"Removed non-image file: {file_path}\")\n",
        "                except Exception as e:\n",
        "                    print(f\"Error removing file {file_path}: {e}\")\n",
        "            else:\n",
        "                image_count += 1\n",
        "        \n",
        "        # Print summary for the folder\n",
        "        print(f\"Folder: {folder} - contains {image_count} image files and {non_image_count} non-image files.\")\n",
        "\n"
      ]
    },
    {
      "cell_type": "markdown",
      "metadata": {},
      "source": [
        "---"
      ]
    },
    {
      "cell_type": "markdown",
      "metadata": {},
      "source": [
        "## Split train validation test set"
      ]
    },
    {
      "cell_type": "code",
      "execution_count": null,
      "metadata": {},
      "outputs": [],
      "source": [
        "import os\n",
        "import shutil\n",
        "import random\n",
        "\n",
        "def split_train_validation_test_images(my_data_dir, train_set_ratio, validation_set_ratio, test_set_ratio):\n",
        "    if train_set_ratio + validation_set_ratio + test_set_ratio != 1.0:\n",
        "        print(\"train_set_ratio + validation_set_ratio + test_set_ratio should sum to 1.0\")\n",
        "        return\n",
        "\n",
        "    # Ensure the directory exists\n",
        "    if not os.path.exists(my_data_dir):\n",
        "        print(f\"Error: Directory {my_data_dir} does not exist.\")\n",
        "        return\n",
        "\n",
        "    # Get class labels\n",
        "    labels = os.listdir(my_data_dir)  # It should get only the folder names\n",
        "    if 'test' in labels:\n",
        "        pass\n",
        "    else:\n",
        "        # Create train, validation, test folders with class label sub-folders\n",
        "        for folder in ['train', 'validation', 'test']:\n",
        "            for label in labels:\n",
        "                os.makedirs(os.path.join(my_data_dir, folder, label), exist_ok=True)\n",
        "\n",
        "        for label in labels:\n",
        "            files = os.listdir(os.path.join(my_data_dir, label))\n",
        "            random.shuffle(files)\n",
        "\n",
        "            train_set_files_qty = int(len(files) * train_set_ratio)\n",
        "            validation_set_files_qty = int(len(files) * validation_set_ratio)\n",
        "\n",
        "            count = 1\n",
        "            for file_name in files:\n",
        "                src_path = os.path.join(my_data_dir, label, file_name)\n",
        "                if count <= train_set_files_qty:\n",
        "                    # Move a given file to the train set\n",
        "                    dst_path = os.path.join(my_data_dir, 'train', label, file_name)\n",
        "                elif count <= (train_set_files_qty + validation_set_files_qty):\n",
        "                    # Move a given file to the validation set\n",
        "                    dst_path = os.path.join(my_data_dir, 'validation', label, file_name)\n",
        "                else:\n",
        "                    # Move a given file to the test set\n",
        "                    dst_path = os.path.join(my_data_dir, 'test', label, file_name)\n",
        "\n",
        "                shutil.move(src_path, dst_path)\n",
        "                count += 1\n",
        "\n",
        "            # Remove the original label directory if it's empty\n",
        "            os.rmdir(os.path.join(my_data_dir, label))\n",
        "\n",
        "# Example usage"
      ]
    },
    {
      "cell_type": "markdown",
      "metadata": {},
      "source": [
        "Devide the dataset in:\n",
        "* Training set in 0.70 ratio\n",
        "* Validation set in 0.10 ratio\n",
        "* Test set in 0.20 ratio\n"
      ]
    },
    {
      "cell_type": "code",
      "execution_count": 64,
      "metadata": {},
      "outputs": [],
      "source": [
        "split_train_validation_test_images(my_data_dir=f\"inputsdatasets/cars_inventory\",\n",
        "                                   train_set_ratio=0.7,\n",
        "                                   validation_set_ratio=0.1,\n",
        "                                   test_set_ratio=0.2\n",
        "                                   )"
      ]
    },
    {
      "cell_type": "markdown",
      "metadata": {},
      "source": [
        "---"
      ]
    }
  ],
  "metadata": {
    "accelerator": "GPU",
    "colab": {
      "name": "Data Practitioner Jupyter Notebook.ipynb",
      "provenance": [],
      "toc_visible": true
    },
    "kernelspec": {
      "display_name": "Python 3",
      "language": "python",
      "name": "python3"
    },
    "language_info": {
      "codemirror_mode": {
        "name": "ipython",
        "version": 3
      },
      "file_extension": ".py",
      "mimetype": "text/x-python",
      "name": "python",
      "nbconvert_exporter": "python",
      "pygments_lexer": "ipython3",
      "version": "3.12.8"
    },
    "orig_nbformat": 2
  },
  "nbformat": 4,
  "nbformat_minor": 2
}
